{
 "cells": [
  {
   "cell_type": "markdown",
   "metadata": {},
   "source": [
    "# Universidad de Costa Rica"
   ]
  },
  {
   "cell_type": "markdown",
   "metadata": {},
   "source": [
    "# Maestría en Bioinformática y Biología de Sistemas"
   ]
  },
  {
   "cell_type": "markdown",
   "metadata": {},
   "source": [
    "Minería de Datos"
   ]
  },
  {
   "cell_type": "markdown",
   "metadata": {},
   "source": [
    "Cristian Vargas Mora – A96560"
   ]
  },
  {
   "cell_type": "markdown",
   "metadata": {},
   "source": [
    "Práctica 5"
   ]
  },
  {
   "cell_type": "code",
   "execution_count": 29,
   "metadata": {},
   "outputs": [],
   "source": [
    "import pandas as pd\n",
    "import numpy as np\n",
    "import matplotlib.pyplot as plt\n",
    "%matplotlib inline"
   ]
  },
  {
   "cell_type": "markdown",
   "metadata": {},
   "source": [
    "# (1) Conjunto de datos:"
   ]
  },
  {
   "cell_type": "code",
   "execution_count": 30,
   "metadata": {},
   "outputs": [
    {
     "name": "stdout",
     "output_type": "stream",
     "text": [
      "El set de datos tiene 569 instancias y 30 atributos, los cuales pertenecen a las clases denominadas ['malignant' 'benign']\n"
     ]
    }
   ],
   "source": [
    "from sklearn.datasets import load_breast_cancer\n",
    "cancer=load_breast_cancer()\n",
    "print(\"El set de datos tiene\", cancer.data.shape[0], \"instancias y\", cancer.data.shape[1], \"atributos,\", \"los cuales pertenecen a las clases denominadas\", cancer.target_names)"
   ]
  },
  {
   "cell_type": "markdown",
   "metadata": {},
   "source": [
    "# (2) Algoritmos de clasificación:"
   ]
  },
  {
   "cell_type": "code",
   "execution_count": 31,
   "metadata": {},
   "outputs": [],
   "source": [
    "from sklearn.ensemble import RandomForestClassifier\n",
    "from sklearn.naive_bayes import BernoulliNB\n",
    "from sklearn.ensemble import GradientBoostingClassifier\n",
    "from sklearn.gaussian_process import GaussianProcessClassifier\n",
    "from sklearn.neural_network import MLPClassifier"
   ]
  },
  {
   "cell_type": "markdown",
   "metadata": {},
   "source": [
    "# (3) Validación:"
   ]
  },
  {
   "cell_type": "code",
   "execution_count": 32,
   "metadata": {},
   "outputs": [],
   "source": [
    "from sklearn.model_selection import train_test_split"
   ]
  },
  {
   "cell_type": "code",
   "execution_count": 267,
   "metadata": {},
   "outputs": [],
   "source": [
    "x_train, x_test, y_train, y_test = train_test_split(cancer.data, cancer.target, test_size=0.30, random_state=42)"
   ]
  },
  {
   "cell_type": "markdown",
   "metadata": {},
   "source": [
    "# RandomForestClassifier:"
   ]
  },
  {
   "cell_type": "code",
   "execution_count": 258,
   "metadata": {},
   "outputs": [
    {
     "name": "stdout",
     "output_type": "stream",
     "text": [
      "Training set score: 0.874\n",
      "Test set score: 0.854\n"
     ]
    }
   ],
   "source": [
    "clf=RandomForestClassifier(n_estimators=10, max_depth=None, random_state=0, min_samples_split=2)\n",
    "clf.fit(x_train, y_train)\n",
    "print(\"Training set score: {:.3f}\".format(clf.score(x_train, y_train)))\n",
    "print(\"Test set score: {:.3f}\".format(clf.score(x_test, y_test)))"
   ]
  },
  {
   "cell_type": "markdown",
   "metadata": {},
   "source": [
    "Los parámetros por defecto producen un modelo sobreajustado."
   ]
  },
  {
   "cell_type": "markdown",
   "metadata": {},
   "source": [
    "# BernoulliNB"
   ]
  },
  {
   "cell_type": "code",
   "execution_count": 136,
   "metadata": {},
   "outputs": [
    {
     "name": "stdout",
     "output_type": "stream",
     "text": [
      "Training set score: 0.867\n",
      "Test set score: 0.912\n"
     ]
    }
   ],
   "source": [
    "clf=BernoulliNB(alpha=1.0, binarize=0.0)\n",
    "clf.fit(x_train, y_train)\n",
    "print(\"Training set score: {:.3f}\".format(clf.score(x_train, y_train)))\n",
    "print(\"Test set score: {:.3f}\".format(clf.score(x_test, y_test)))"
   ]
  },
  {
   "cell_type": "markdown",
   "metadata": {},
   "source": [
    "Los parámetros por defecto producen un modelo desajustado."
   ]
  },
  {
   "cell_type": "markdown",
   "metadata": {},
   "source": [
    "# GradientBoostingClassifier"
   ]
  },
  {
   "cell_type": "code",
   "execution_count": 221,
   "metadata": {},
   "outputs": [
    {
     "name": "stdout",
     "output_type": "stream",
     "text": [
      "Training set score: 1.000\n",
      "Test set score: 0.959\n"
     ]
    }
   ],
   "source": [
    "clf=GradientBoostingClassifier(n_estimators=100, learning_rate=0.1, max_depth=3)\n",
    "clf.fit(x_train, y_train)\n",
    "print(\"Training set score: {:.3f}\".format(clf.score(x_train, y_train)))\n",
    "print(\"Test set score: {:.3f}\".format(clf.score(x_test, y_test)))"
   ]
  },
  {
   "cell_type": "markdown",
   "metadata": {},
   "source": [
    "Los parámetros por defecto producen un modelo sobreajustado."
   ]
  },
  {
   "cell_type": "markdown",
   "metadata": {},
   "source": [
    "# GaussianProcessClassifier"
   ]
  },
  {
   "cell_type": "code",
   "execution_count": 269,
   "metadata": {},
   "outputs": [
    {
     "name": "stdout",
     "output_type": "stream",
     "text": [
      "Training set score: 1.000\n",
      "Test set score: 0.930\n"
     ]
    }
   ],
   "source": [
    "clf=GaussianProcessClassifier(max_iter_predict=100, n_restarts_optimizer=0, random_state=0)\n",
    "clf.fit(x_train, y_train)\n",
    "print(\"Training set score: {:.3f}\".format(clf.score(x_train, y_train)))\n",
    "print(\"Test set score: {:.3f}\".format(clf.score(x_test, y_test)))"
   ]
  },
  {
   "cell_type": "markdown",
   "metadata": {},
   "source": [
    "Los parámetros por defecto producen un modelo sobreajustado."
   ]
  },
  {
   "cell_type": "markdown",
   "metadata": {},
   "source": [
    "# MLPClassifier"
   ]
  },
  {
   "cell_type": "code",
   "execution_count": 255,
   "metadata": {},
   "outputs": [
    {
     "name": "stdout",
     "output_type": "stream",
     "text": [
      "Training set score: 0.892\n",
      "Test set score: 0.947\n"
     ]
    }
   ],
   "source": [
    "clf=MLPClassifier(activation=\"relu\", hidden_layer_sizes=(5,3), random_state=1, solver=\"adam\", max_iter=500)\n",
    "clf.fit(x_train, y_train)\n",
    "print(\"Training set score: {:.3f}\".format(clf.score(x_train, y_train)))\n",
    "print(\"Test set score: {:.3f}\".format(clf.score(x_test, y_test)))"
   ]
  },
  {
   "cell_type": "markdown",
   "metadata": {},
   "source": [
    "# (4) Afinamiento de parámetros del clasificador:"
   ]
  },
  {
   "cell_type": "markdown",
   "metadata": {},
   "source": [
    "# RandomForestClassifier:"
   ]
  },
  {
   "cell_type": "code",
   "execution_count": 238,
   "metadata": {},
   "outputs": [
    {
     "data": {
      "image/png": "[encoded data removed]",
      "text/plain": [
       "<matplotlib.figure.Figure at 0x7f51ea87c6a0>"
      ]
     },
     "metadata": {},
     "output_type": "display_data"
    }
   ],
   "source": [
    "lista_resultados=[]\n",
    "lista_resultados2=[]\n",
    "numeros = [0.1, 0.2, 0.3, 0.4, 0.5, 0.6, 0.7, 0.8, 0.9, 1.0]\n",
    "for i in numeros:\n",
    "    clf=RandomForestClassifier(n_estimators=1, max_depth=1, random_state=0, min_samples_split=i)\n",
    "    clf.fit(x_train, y_train)\n",
    "    score_temp=clf.score(x_test, y_test)\n",
    "    score_temp2=clf.score(x_train, y_train)\n",
    "    lista_resultados.append(score_temp)\n",
    "    lista_resultados2.append(score_temp2)\n",
    "    \n",
    "\n",
    "plt.plot(numeros,lista_resultados, label=\"Test\")\n",
    "plt.plot(numeros,lista_resultados2, label=\"Train\")\n",
    "plt.xlabel(\"n estimators\")\n",
    "plt.ylabel(\"Score\")\n",
    "plt.legend(loc=5)\n",
    "plt.show()"
   ]
  },
  {
   "cell_type": "markdown",
   "metadata": {},
   "source": [
    "El valor mínimo de n estimators produce un modelo sobreajustado y entre más se aumenta este parámetro mayor es el sobreajuste. Fijando n_estimator=1 y max_depth=1 el valor de min_samples_split para un buen ajuste es 0.6. "
   ]
  },
  {
   "cell_type": "markdown",
   "metadata": {},
   "source": [
    "# BernoulliNB"
   ]
  },
  {
   "cell_type": "code",
   "execution_count": 133,
   "metadata": {},
   "outputs": [
    {
     "data": {
      "image/png": "[encoded data removed]",
      "text/plain": [
       "<matplotlib.figure.Figure at 0x7f51e8834a58>"
      ]
     },
     "metadata": {},
     "output_type": "display_data"
    }
   ],
   "source": [
    "lista_resultados=[]\n",
    "lista_resultados2=[]\n",
    "numeros = range(1,100)\n",
    "for i in numeros:\n",
    "    clf=BernoulliNB(alpha=1.0, binarize=i)\n",
    "    clf.fit(x_train, y_train)\n",
    "    score_temp=clf.score(x_test, y_test)\n",
    "    score_temp2=clf.score(x_train, y_train)\n",
    "    lista_resultados.append(score_temp)\n",
    "    lista_resultados2.append(score_temp2)\n",
    "    \n",
    "\n",
    "plt.plot(numeros,lista_resultados, label=\"Test\")\n",
    "plt.plot(numeros,lista_resultados2, label=\"Train\")\n",
    "plt.xlabel(\"binarize Value\")\n",
    "plt.ylabel(\"Score\")\n",
    "plt.legend(loc=4)\n",
    "plt.show()"
   ]
  },
  {
   "cell_type": "markdown",
   "metadata": {},
   "source": [
    "Establecer un binarize Value de ~95 produce un modelo bien ajustado."
   ]
  },
  {
   "cell_type": "markdown",
   "metadata": {},
   "source": [
    "# GradientBoostingClassifier"
   ]
  },
  {
   "cell_type": "code",
   "execution_count": 222,
   "metadata": {},
   "outputs": [
    {
     "data": {
      "image/png": "[encoded data removed]",
      "text/plain": [
       "<matplotlib.figure.Figure at 0x7f51e821fac8>"
      ]
     },
     "metadata": {},
     "output_type": "display_data"
    }
   ],
   "source": [
    "lista_resultados=[]\n",
    "lista_resultados2=[]\n",
    "numeros = range(1,11)\n",
    "for i in numeros:\n",
    "    clf=GradientBoostingClassifier(n_estimators=100, learning_rate=0.005, max_depth=i)\n",
    "    clf.fit(x_train, y_train)\n",
    "    score_temp=clf.score(x_test, y_test)\n",
    "    score_temp2=clf.score(x_train, y_train)\n",
    "    lista_resultados.append(score_temp)\n",
    "    lista_resultados2.append(score_temp2)\n",
    "    \n",
    "\n",
    "plt.plot(numeros,lista_resultados, label=\"Test\")\n",
    "plt.plot(numeros,lista_resultados2, label=\"Train\")\n",
    "plt.xlabel(\"max_depth Value\")\n",
    "plt.ylabel(\"Score\")\n",
    "plt.legend(loc=4)\n",
    "plt.show()"
   ]
  },
  {
   "cell_type": "markdown",
   "metadata": {},
   "source": [
    "Establecer los n_estimators en 2 produce un modelo mal ajustado, mientras que n_estimators=3 produce un modelo sobreajustado. Se fijó n_estimators=2 y se hizo el ajuste con el learning_rate. El resultado es similar. Se probó hacer el ajuste fijando los n_estimators=100 y el learning_rate=0,005 y variando el parámetro max_depth. Se obtuvo un modelo bien ajustado con max_depth=1."
   ]
  },
  {
   "cell_type": "markdown",
   "metadata": {},
   "source": [
    "# GaussianProcessClassifier"
   ]
  },
  {
   "cell_type": "code",
   "execution_count": 268,
   "metadata": {},
   "outputs": [
    {
     "data": {
      "image/png": "[encoded data removed]",
      "text/plain": [
       "<matplotlib.figure.Figure at 0x7f51ea8cdda0>"
      ]
     },
     "metadata": {},
     "output_type": "display_data"
    }
   ],
   "source": [
    "lista_resultados=[]\n",
    "lista_resultados2=[]\n",
    "numeros = range(1,100)\n",
    "for i in numeros:\n",
    "    clf=GaussianProcessClassifier(max_iter_predict=i, n_restarts_optimizer=0, random_state=0)\n",
    "    clf.fit(x_train, y_train)\n",
    "    score_temp=clf.score(x_test, y_test)\n",
    "    score_temp2=clf.score(x_train, y_train)\n",
    "    lista_resultados.append(score_temp)\n",
    "    lista_resultados2.append(score_temp2)\n",
    "    \n",
    "\n",
    "plt.plot(numeros,lista_resultados, label=\"Test\")\n",
    "plt.plot(numeros,lista_resultados2, label=\"Train\")\n",
    "plt.xlabel(\"max_iter_predict Value\")\n",
    "plt.ylabel(\"Score\")\n",
    "plt.legend(loc=5)\n",
    "plt.show()"
   ]
  },
  {
   "cell_type": "markdown",
   "metadata": {},
   "source": [
    "# MLPClassifier"
   ]
  },
  {
   "cell_type": "code",
   "execution_count": 254,
   "metadata": {},
   "outputs": [
    {
     "data": {
      "image/png": "[encoded data removed]",
      "text/plain": [
       "<matplotlib.figure.Figure at 0x7f51e8374ba8>"
      ]
     },
     "metadata": {},
     "output_type": "display_data"
    }
   ],
   "source": [
    "lista_resultados=[]\n",
    "lista_resultados2=[]\n",
    "numeros = range(1,11)\n",
    "for i in numeros:\n",
    "    clf=MLPClassifier(activation=\"relu\", hidden_layer_sizes=(i,3), random_state=1, solver=\"adam\", max_iter=500)\n",
    "    clf.fit(x_train, y_train)\n",
    "    score_temp=clf.score(x_test, y_test)\n",
    "    score_temp2=clf.score(x_train, y_train)\n",
    "    lista_resultados.append(score_temp)\n",
    "    lista_resultados2.append(score_temp2)\n",
    "    \n",
    "\n",
    "plt.plot(numeros,lista_resultados, label=\"Test\")\n",
    "plt.plot(numeros,lista_resultados2, label=\"Train\")\n",
    "plt.xlabel(\"hidden_layer_sizes=(x,2)\")\n",
    "plt.ylabel(\"Score\")\n",
    "plt.legend(loc=4)\n",
    "plt.show()"
   ]
  },
  {
   "cell_type": "markdown",
   "metadata": {},
   "source": [
    "# (5) Validación cruzada:"
   ]
  },
  {
   "cell_type": "markdown",
   "metadata": {},
   "source": [
    "Se utilizan los mejores parámetros determinados anteriormente para los clasificadores: "
   ]
  },
  {
   "cell_type": "markdown",
   "metadata": {},
   "source": [
    "# Método de validación cruzada #1: k-fold"
   ]
  },
  {
   "cell_type": "code",
   "execution_count": 112,
   "metadata": {},
   "outputs": [],
   "source": [
    "from sklearn.model_selection import cross_val_score"
   ]
  },
  {
   "cell_type": "markdown",
   "metadata": {},
   "source": [
    "# RandomForestClassifier"
   ]
  },
  {
   "cell_type": "code",
   "execution_count": 259,
   "metadata": {},
   "outputs": [
    {
     "name": "stdout",
     "output_type": "stream",
     "text": [
      "Cross-validation scores: [ 0.82608696  0.86956522  0.88495575  0.85840708  0.86725664]\n"
     ]
    }
   ],
   "source": [
    "clf=RandomForestClassifier(n_estimators=1, max_depth=1, random_state=0, min_samples_split=0.6)\n",
    "scores = cross_val_score(clf, cancer.data, cancer.target, cv=5)\n",
    "print(\"Cross-validation scores: {}\".format(scores))"
   ]
  },
  {
   "cell_type": "markdown",
   "metadata": {},
   "source": [
    "# BernoulliNB"
   ]
  },
  {
   "cell_type": "code",
   "execution_count": 260,
   "metadata": {},
   "outputs": [
    {
     "name": "stdout",
     "output_type": "stream",
     "text": [
      "Cross-validation scores: [ 0.82608696  0.87826087  0.87610619  0.92035398  0.90265487]\n"
     ]
    }
   ],
   "source": [
    "clf=BernoulliNB(alpha=1.0, binarize=95)\n",
    "scores = cross_val_score(clf, cancer.data, cancer.target, cv=5)\n",
    "print(\"Cross-validation scores: {}\".format(scores))"
   ]
  },
  {
   "cell_type": "markdown",
   "metadata": {},
   "source": [
    "# GradientBoostingClassifier"
   ]
  },
  {
   "cell_type": "code",
   "execution_count": 262,
   "metadata": {},
   "outputs": [
    {
     "name": "stdout",
     "output_type": "stream",
     "text": [
      "Cross-validation scores: [ 0.85217391  0.86956522  0.91150442  0.92035398  0.94690265]\n"
     ]
    }
   ],
   "source": [
    "clf=GradientBoostingClassifier(n_estimators=100, learning_rate=0.005, max_depth=1)\n",
    "scores = cross_val_score(clf, cancer.data, cancer.target, cv=5)\n",
    "print(\"Cross-validation scores: {}\".format(scores))"
   ]
  },
  {
   "cell_type": "markdown",
   "metadata": {},
   "source": [
    "# GaussianProcessClassifier"
   ]
  },
  {
   "cell_type": "code",
   "execution_count": 264,
   "metadata": {},
   "outputs": [
    {
     "name": "stdout",
     "output_type": "stream",
     "text": [
      "Cross-validation scores: [ 0.86956522  0.92173913  0.91150442  0.92035398  0.91150442]\n"
     ]
    }
   ],
   "source": [
    "clf=GaussianProcessClassifier(max_iter_predict=100, n_restarts_optimizer=0, random_state=0)\n",
    "scores = cross_val_score(clf, cancer.data, cancer.target, cv=5)\n",
    "print(\"Cross-validation scores: {}\".format(scores))"
   ]
  },
  {
   "cell_type": "markdown",
   "metadata": {},
   "source": [
    "# MLPClassifier"
   ]
  },
  {
   "cell_type": "code",
   "execution_count": 270,
   "metadata": {},
   "outputs": [
    {
     "name": "stdout",
     "output_type": "stream",
     "text": [
      "Cross-validation scores: [ 0.87826087  0.92173913  0.91150442  0.91150442  0.87610619]\n"
     ]
    }
   ],
   "source": [
    "clf=MLPClassifier(activation=\"relu\", hidden_layer_sizes=(8,3), random_state=1, solver=\"adam\", max_iter=500)\n",
    "scores = cross_val_score(clf, cancer.data, cancer.target, cv=5)\n",
    "print(\"Cross-validation scores: {}\".format(scores))"
   ]
  },
  {
   "cell_type": "markdown",
   "metadata": {},
   "source": [
    "# Método de validación cruzada #2: Shuffle-Split CV"
   ]
  },
  {
   "cell_type": "code",
   "execution_count": 271,
   "metadata": {},
   "outputs": [],
   "source": [
    "from sklearn.model_selection import ShuffleSplit"
   ]
  },
  {
   "cell_type": "markdown",
   "metadata": {},
   "source": [
    "# RandomForestClassifier"
   ]
  },
  {
   "cell_type": "code",
   "execution_count": 273,
   "metadata": {},
   "outputs": [
    {
     "name": "stdout",
     "output_type": "stream",
     "text": [
      "Cross-validation scores: [ 0.87368421  0.87719298  0.87017544  0.86666667  0.87719298]\n"
     ]
    }
   ],
   "source": [
    "shuffle_split = ShuffleSplit(test_size=.5, train_size=.5, n_splits=5)\n",
    "clf=RandomForestClassifier(n_estimators=1, max_depth=1, random_state=0, min_samples_split=0.6)\n",
    "scores = cross_val_score(clf, cancer.data, cancer.target, cv=shuffle_split)\n",
    "print(\"Cross-validation scores: {}\".format(scores))\n"
   ]
  },
  {
   "cell_type": "markdown",
   "metadata": {},
   "source": [
    "# BernoulliNB"
   ]
  },
  {
   "cell_type": "code",
   "execution_count": 274,
   "metadata": {},
   "outputs": [
    {
     "name": "stdout",
     "output_type": "stream",
     "text": [
      "Cross-validation scores: [ 0.88070175  0.8877193   0.8877193   0.87368421  0.87017544]\n"
     ]
    }
   ],
   "source": [
    "shuffle_split = ShuffleSplit(test_size=.5, train_size=.5, n_splits=5)\n",
    "clf=BernoulliNB(alpha=1.0, binarize=95)\n",
    "scores = cross_val_score(clf, cancer.data, cancer.target, cv=shuffle_split)\n",
    "print(\"Cross-validation scores: {}\".format(scores))"
   ]
  },
  {
   "cell_type": "markdown",
   "metadata": {},
   "source": [
    "# GradientBoostingClassifier"
   ]
  },
  {
   "cell_type": "code",
   "execution_count": 275,
   "metadata": {},
   "outputs": [
    {
     "name": "stdout",
     "output_type": "stream",
     "text": [
      "Cross-validation scores: [ 0.85964912  0.89473684  0.89824561  0.9122807   0.88421053]\n"
     ]
    }
   ],
   "source": [
    "shuffle_split = ShuffleSplit(test_size=.5, train_size=.5, n_splits=5)\n",
    "clf=GradientBoostingClassifier(n_estimators=100, learning_rate=0.005, max_depth=1)\n",
    "scores = cross_val_score(clf, cancer.data, cancer.target, cv=shuffle_split)\n",
    "print(\"Cross-validation scores: {}\".format(scores))"
   ]
  },
  {
   "cell_type": "markdown",
   "metadata": {},
   "source": [
    "# GaussianProcessClassifier"
   ]
  },
  {
   "cell_type": "code",
   "execution_count": 276,
   "metadata": {},
   "outputs": [
    {
     "name": "stdout",
     "output_type": "stream",
     "text": [
      "Cross-validation scores: [ 0.91929825  0.91929825  0.89824561  0.90526316  0.92631579]\n"
     ]
    }
   ],
   "source": [
    "shuffle_split = ShuffleSplit(test_size=.5, train_size=.5, n_splits=5)\n",
    "clf=GaussianProcessClassifier(max_iter_predict=100, n_restarts_optimizer=0, random_state=0)\n",
    "scores = cross_val_score(clf, cancer.data, cancer.target, cv=shuffle_split)\n",
    "print(\"Cross-validation scores: {}\".format(scores))"
   ]
  },
  {
   "cell_type": "markdown",
   "metadata": {},
   "source": [
    "# MLPClassifier"
   ]
  },
  {
   "cell_type": "code",
   "execution_count": 277,
   "metadata": {},
   "outputs": [
    {
     "name": "stdout",
     "output_type": "stream",
     "text": [
      "Cross-validation scores: [ 0.91578947  0.8877193   0.90526316  0.90526316  0.90877193]\n"
     ]
    }
   ],
   "source": [
    "shuffle_split = ShuffleSplit(test_size=.5, train_size=.5, n_splits=5)\n",
    "clf=MLPClassifier(activation=\"relu\", hidden_layer_sizes=(8,3), random_state=1, solver=\"adam\", max_iter=500)\n",
    "scores = cross_val_score(clf, cancer.data, cancer.target, cv=shuffle_split)\n",
    "print(\"Cross-validation scores: {}\".format(scores))"
   ]
  },
  {
   "cell_type": "markdown",
   "metadata": {},
   "source": [
    "# (6) Conclusiones:"
   ]
  },
  {
   "cell_type": "markdown",
   "metadata": {},
   "source": [
    "Es posible clasificar entre tejido maligno y benigno a partir de los atributos proporcionados en el set de datos de breast cancer. Se obtienen resultados satisfactorios con los cinco algoritmos clasificadores empleados, sin embargo, es de suma importancia establecer los parámetros correctos para que la clasificación sea acertada. Para algunos algoritmos se usan pocos parámetros, inclusive al evaluar únicamente un solo parámetro se puede llegar a una buena generalización. En el caso del GaussianProcessClassifier, no hay muchas opciones para evaluar distintos parámetros y en apariencia, parece arrojar resultados sobreajustados; pero como se observa en la validación cruzada, la generalización es buena. Otros clasificadores como por ejemplo MLP o RandomForest, tienen la capacidad de variar multiples parámetros y esto permite llegar a una buena generalización con más flexibilidad. "
   ]
  },
  {
   "cell_type": "code",
   "execution_count": null,
   "metadata": {},
   "outputs": [],
   "source": []
  }
 ],
 "metadata": {
  "kernelspec": {
   "display_name": "Python 3",
   "language": "python",
   "name": "python3"
  },
  "language_info": {
   "codemirror_mode": {
    "name": "ipython",
    "version": 3
   },
   "file_extension": ".py",
   "mimetype": "text/x-python",
   "name": "python",
   "nbconvert_exporter": "python",
   "pygments_lexer": "ipython3",
   "version": "3.6.3"
  }
 },
 "nbformat": 4,
 "nbformat_minor": 2
}
